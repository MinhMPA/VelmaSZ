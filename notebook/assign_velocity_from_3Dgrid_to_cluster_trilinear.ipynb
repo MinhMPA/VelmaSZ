{
 "cells": [
  {
   "cell_type": "markdown",
   "id": "08e79619",
   "metadata": {},
   "source": [
    "# Load modules and 3D grid of peculiar velocity"
   ]
  },
  {
   "cell_type": "code",
   "execution_count": 1,
   "id": "b123e069",
   "metadata": {},
   "outputs": [
    {
     "name": "stdout",
     "output_type": "stream",
     "text": [
      "(256, 256, 256, 3)\n",
      "0.0006478725489079893\n",
      "246.10231630299057\n",
      "-1483.860930418576\n",
      "1412.1464473171718\n"
     ]
    }
   ],
   "source": [
    "## Load the modules\n",
    "\n",
    "from scipy.interpolate import interpn\n",
    "import healpy as hp\n",
    "import numpy as np\n",
    "import numexpr as ne\n",
    "from astropy.coordinates import SkyCoord\n",
    "import astropy.units as au\n",
    "\n",
    "import sys\n",
    "sys.path.append('../code/')\n",
    "import source\n",
    "import importlib\n",
    "importlib.reload(source)\n",
    "from source.catalog import CatalogASCII\n",
    "from source.skymap import PlanckMap\n",
    "from source.cosmology import FlatLambdaCDMCosmo\n",
    "from source.galaxybox import Box\n",
    "\n",
    "## Set path and load data\n",
    "\n",
    "data_path = '../data/velocity/'\n",
    "vfield_file = data_path + 'vfield_output_2000.npy'\n",
    "vfield = np.load(vfield_file)\n",
    "\n",
    "## Check data\n",
    "print(vfield.shape)\n",
    "print(vfield.mean())\n",
    "print(vfield.std())\n",
    "print(vfield.min())\n",
    "print(vfield.max())"
   ]
  },
  {
   "cell_type": "markdown",
   "id": "98ff734e",
   "metadata": {},
   "source": [
    "# Load the maxBCG clusters within BOSS SDSS-3 volume"
   ]
  },
  {
   "cell_type": "code",
   "execution_count": 2,
   "id": "9cc64706",
   "metadata": {},
   "outputs": [],
   "source": [
    "## Load clusters\n",
    "\n",
    "catFile='../data/cluster/maxBCG_ID_redshift_sky_selected.dat'\n",
    "cat = CatalogASCII(catFile,use_photoz=False,specz_col=3,N200_col=4)\n",
    "\n",
    "ID = cat.id\n",
    "z = cat.specz\n",
    "ra = cat.coord.ra\n",
    "dec = cat.coord.dec\n",
    "N200 = cat.N200"
   ]
  },
  {
   "cell_type": "markdown",
   "id": "45a65c00",
   "metadata": {},
   "source": [
    "# Convert cluster positions to cartesian coordinates"
   ]
  },
  {
   "cell_type": "code",
   "execution_count": 3,
   "id": "8fda2e28",
   "metadata": {},
   "outputs": [
    {
     "data": {
      "text/plain": [
       "True"
      ]
     },
     "execution_count": 3,
     "metadata": {},
     "output_type": "execute_result"
    }
   ],
   "source": [
    "## Define cosmological model\n",
    "\n",
    "model = FlatLambdaCDMCosmo()\n",
    "model.get_astropy_cosmo()\n",
    "\n",
    "\n",
    "## Convert coordinates\n",
    "\n",
    "### Convert redshift and ra, dec to comoving Cartesian coordinates\n",
    "\n",
    "r = model.cosmo.comoving_distance(z)\n",
    "coord = SkyCoord(ra=ra, dec=dec, distance=r)\n",
    "x = np.float64(coord.cartesian.x.to_value(au.Mpc))\n",
    "y = np.float64(coord.cartesian.y.to_value(au.Mpc))\n",
    "z = np.float64(coord.cartesian.z.to_value(au.Mpc))\n",
    "\n",
    "### Shift the cartesian coordinates to be consistent w.r.t. BORG observer\n",
    "\n",
    "pos_in_maxBCG_physcoord = np.stack((x, y, z), axis=-1)\n",
    "pos_in_borg_physcoord = np.empty_like(pos_in_maxBCG_physcoord)\n",
    "borg_box = Box()\n",
    "corner = borg_box.box_corners.to_value(au.Mpc)\n",
    "ne.evaluate('pos - corner', dict(pos=pos_in_maxBCG_physcoord,corner=corner[None,:]), out=pos_in_borg_physcoord)\n",
    "\n",
    "### Copy velocity grid and object position into Box() object\n",
    "borg_box.copy_velocity_grid(vfield)\n",
    "borg_box.load_object_onto_grid(pos_in_borg_physcoord)"
   ]
  },
  {
   "cell_type": "markdown",
   "id": "87c2c596",
   "metadata": {},
   "source": [
    "# Interpolate cluster 3D velocity, then project onto the LOS of each cluster"
   ]
  },
  {
   "cell_type": "code",
   "execution_count": 4,
   "id": "7eaf0448",
   "metadata": {},
   "outputs": [
    {
     "name": "stdout",
     "output_type": "stream",
     "text": [
      "-19.173149694902538\n",
      "237.64029652691644\n",
      "-741.8805214107871\n",
      "690.2312105322125\n"
     ]
    }
   ],
   "source": [
    "## Interpolate 3D velocity\n",
    "\n",
    "borg_box.get_object_velocity()\n",
    "\n",
    "## Project onto LOS\n",
    "\n",
    "vlos = borg_box.project_vlos()\n",
    "\n",
    "## Check results\n",
    "\n",
    "print(vlos.mean())\n",
    "print(vlos.std())\n",
    "print(vlos.min())\n",
    "print(vlos.max())"
   ]
  }
 ],
 "metadata": {
  "kernelspec": {
   "display_name": "Python 3",
   "language": "python",
   "name": "python3"
  },
  "language_info": {
   "codemirror_mode": {
    "name": "ipython",
    "version": 3
   },
   "file_extension": ".py",
   "mimetype": "text/x-python",
   "name": "python",
   "nbconvert_exporter": "python",
   "pygments_lexer": "ipython3",
   "version": "3.6.13"
  }
 },
 "nbformat": 4,
 "nbformat_minor": 5
}
